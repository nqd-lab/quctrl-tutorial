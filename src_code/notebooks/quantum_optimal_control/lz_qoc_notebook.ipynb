{
 "cells": [
  {
   "cell_type": "markdown",
   "metadata": {},
   "source": [
    "# Quantum Optimal Control for Two-Level Systems\n",
    "\n",
    "**Author:** pmpoggi @ strath (February 2024)\n",
    "\n",
    "This notebook uses GRAPE + BFGS to optimize unitaries for a two-level system. The implementation focuses on Landau-Zener transitions with optimal control fields."
   ]
  },
  {
   "cell_type": "markdown",
   "metadata": {},
   "source": [
    "## Import Required Libraries"
   ]
  },
  {
   "cell_type": "code",
   "execution_count": 1,
   "metadata": {},
   "outputs": [],
   "source": [
    "import numpy as np\n",
    "import matplotlib.pyplot as plt\n",
    "import time\n",
    "import scipy.linalg as alg\n",
    "import scipy.optimize as optim"
   ]
  },
  {
   "cell_type": "markdown",
   "metadata": {},
   "source": [
    "## General Functions and Definitions\n",
    "\n",
    "Define the basic quantum mechanical operators and utility functions."
   ]
  },
  {
   "cell_type": "code",
   "execution_count": 2,
   "metadata": {},
   "outputs": [],
   "source": [
    "# Dimension of Hilbert space\n",
    "dim = 2\n",
    "\n",
    "# Pauli matrices\n",
    "X = np.array([[0,1],[1,0]], dtype=complex)\n",
    "Y = np.array([[0,-1j],[1j,0]], dtype=complex)\n",
    "Z = np.array([[1,0],[0,-1]], dtype=complex)\n",
    "iden2 = np.identity(dim)\n",
    "\n",
    "# Utility functions\n",
    "def herm(A):\n",
    "    \"\"\"Return Hermitian conjugate of matrix A\"\"\"\n",
    "    return np.conjugate(A.T)"
   ]
  },
  {
   "cell_type": "markdown",
   "metadata": {},
   "source": [
    "## System Functions and Parameters\n",
    "\n",
    "Define the Landau-Zener Hamiltonian and propagation functions."
   ]
  },
  {
   "cell_type": "code",
   "execution_count": 3,
   "metadata": {},
   "outputs": [],
   "source": [
    "# System parameters\n",
    "Delta = 1.\n",
    "T0 = np.pi/(2*Delta)  # measure time in this unit\n",
    "\n",
    "def HLZ(x): \n",
    "    \"\"\"Landau-Zener Hamiltonian: H = H0 + x*Hc\"\"\"\n",
    "    return Delta*X + x*Z\n",
    "\n",
    "# Control Hamiltonian\n",
    "Hc = Z\n",
    "\n",
    "def gen_propag(x):\n",
    "    \"\"\"Generate time evolution propagator for control field x\"\"\"\n",
    "    Ut = np.empty([Nts+1, dim, dim], dtype=complex)\n",
    "    Ut[0, :, :] = np.identity(dim)\n",
    "    \n",
    "    for kt in range(Nts):\n",
    "        Udt = alg.expm(-1j*HLZ(x[kt])*dt)\n",
    "        Ut[kt+1] = np.dot(Udt, Ut[kt])\n",
    "    \n",
    "    return Ut"
   ]
  },
  {
   "cell_type": "markdown",
   "metadata": {},
   "source": [
    "## Optimization and Evolution Parameters"
   ]
  },
  {
   "cell_type": "code",
   "execution_count": 4,
   "metadata": {},
   "outputs": [],
   "source": [
    "# Optimization parameters\n",
    "method_gr = 'L-BFGS-B'  # BFGS or L-BFGS-B\n",
    "grad_tol = 1e-06  # tolerance for gradient\n",
    "Nts = 10  # number of time-steps\n",
    "Nattempts = 3  # number of random initializations\n",
    "\n",
    "# Time evolution parameters\n",
    "# Tfs = np.linspace(0.1, 2, 35)  # run like this for a fidelity vs T plot\n",
    "Tfs = [2]  # run like this to see the actual fields\n",
    "fide_opt = np.zeros(len(Tfs))\n",
    "\n",
    "# Initial and target state parameters\n",
    "nu0 = 2\n",
    "theta0 = np.arctan(-Delta/nu0)\n",
    "# theta0 = np.pi/4\n",
    "thetaf = np.pi - theta0\n",
    "psi0 = np.array([np.cos(theta0/2), np.sin(theta0/2)])\n",
    "psiG = np.array([np.cos(thetaf/2), np.sin(thetaf/2)])\n",
    "\n",
    "# Initial guess for the field\n",
    "guess = 'random'"
   ]
  },
  {
   "cell_type": "markdown",
   "metadata": {},
   "source": [
    "## Optimization Functions\n",
    "\n",
    "Define the cost function and its gradient for the GRAPE optimization."
   ]
  },
  {
   "cell_type": "code",
   "execution_count": 5,
   "metadata": {},
   "outputs": [],
   "source": [
    "def Jcost(x):\n",
    "    \"\"\"Cost function: 1 - |<psiG|U(T)|psi0>|^2\"\"\"\n",
    "    UT = gen_propag(x)[-1]\n",
    "    z = np.vdot(psiG, np.dot(UT, psi0))    \n",
    "    cost_step = 1 - abs(z)**2    \n",
    "    return cost_step\n",
    "\n",
    "def Jgrad(x):\n",
    "    \"\"\"Gradient of the cost function with respect to control fields\"\"\"\n",
    "    Ut = gen_propag(x)\n",
    "    z = np.vdot(psiG, np.dot(Ut[-1], psi0)) \n",
    "\n",
    "    # Compute gradient w/respect to fields\n",
    "    gradi_fields = np.zeros(Nts)\n",
    "    \n",
    "    for kj in range(Nts):\n",
    "        hj = HLZ(x[kj])\n",
    "        \n",
    "        # Eigendecomposition of Hamiltonian\n",
    "        [vals, vecs] = alg.eigh(hj)\n",
    "        dhj_daj = Hc\n",
    "        \n",
    "        # Transform derivative to Hamiltonian basis\n",
    "        dhj_daj_rb = np.dot(herm(vecs), np.dot(dhj_daj, vecs))\n",
    "\n",
    "        # Compute matrix elements of propagator derivative\n",
    "        g_h_rb = np.zeros([dim, dim], dtype=complex)\n",
    "        for n in range(dim):\n",
    "            for m in range(dim):\n",
    "                if abs(vals[m] - vals[n]) < 1e-4:\n",
    "                    g_h_rb[n, m] = -1j*dt*dhj_daj_rb[n, m]*np.exp(-1j*dt*vals[n])\n",
    "                else:\n",
    "                    g_h_rb[n, m] = dhj_daj_rb[n, m]*(np.exp(-1j*dt*vals[n]) - \n",
    "                                                    np.exp(-1j*dt*vals[m]))/(vals[n] - vals[m])\n",
    "        \n",
    "        # Transform back to canonical basis\n",
    "        g_h = np.dot(vecs, np.dot(g_h_rb, herm(vecs)))\n",
    "        duj_daj = g_h\n",
    "        \n",
    "        # Compute full propagator derivative\n",
    "        Ufw = Ut[kj]\n",
    "        Ubw = np.dot(Ut[-1], herm(Ut[kj+1]))\n",
    "        dU_daj = np.dot(Ubw, np.dot(duj_daj, Ufw))\n",
    "        \n",
    "        # Compute gradient element\n",
    "        dz_daj = np.vdot(psiG, np.dot(dU_daj, psi0)) \n",
    "        gradi_fields[kj] = -2*np.real(dz_daj*np.conjugate(z))\n",
    "        \n",
    "    return gradi_fields"
   ]
  },
  {
   "cell_type": "markdown",
   "metadata": {},
   "source": [
    "## Main Optimization Loop\n",
    "\n",
    "Run the optimization for different evolution times and initial guesses."
   ]
  },
  {
   "cell_type": "code",
   "execution_count": 6,
   "metadata": {},
   "outputs": [
    {
     "name": "stdout",
     "output_type": "stream",
     "text": [
      "Run 1 of 1, attempt 1 of 3\n",
      "2.220446049250313e-16\n",
      "Run 1 of 1, attempt 2 of 3\n",
      "3.885780586188048e-14\n",
      "Run 1 of 1, attempt 3 of 3\n",
      "1.1812772982011666e-13\n"
     ]
    }
   ],
   "source": [
    "# Initialize timing and optimization variables\n",
    "t_script_0 = time.time()\n",
    "field_opt = 0\n",
    "\n",
    "# Constraint parameters\n",
    "const_crit = Delta**2/nu0\n",
    "c_const = 2  # constraint on the amplitude of the field. if set to 0, there is no constraint\n",
    "\n",
    "# Storage for multiple attempts\n",
    "fide_attempts = np.zeros([len(Tfs), Nattempts])\n",
    "\n",
    "# Main optimization loop\n",
    "for nA in range(Nattempts):\n",
    "    for mT in range(len(Tfs))[::-1]:  # Start from longest time\n",
    "\n",
    "        Tf = Tfs[mT]*T0\n",
    "        t = np.linspace(0., Tf, Nts+1)\n",
    "        tfield = np.linspace(0., Tf, Nts)\n",
    "        dt = t[1] - t[0]\n",
    "        \n",
    "        print(\"Run %d of %d, attempt %d of %d\" % (mT+1, len(Tfs), nA+1, Nattempts))\n",
    "\n",
    "        # Initialize field for first T value\n",
    "        if mT == len(Tfs)-1:\n",
    "            if guess == 'random':\n",
    "                field_x0 = 2*(np.random.rand(Nts) - 0.5)\n",
    "            elif guess == 'zero':\n",
    "                field_x0 = np.zeros(Nts)\n",
    "            cost_x0 = Jcost(field_x0)\n",
    "        else:\n",
    "            field_x0 = field_opt\n",
    "        \n",
    "        # Run optimization with or without constraints\n",
    "        if c_const != 0:\n",
    "            opt_result = optim.minimize(Jcost, x0=field_x0, method=method_gr, jac=Jgrad,\n",
    "                                      bounds=optim.Bounds(lb=-c_const, ub=c_const),\n",
    "                                      options={'gtol': grad_tol, 'disp': False})\n",
    "        else:\n",
    "            opt_result = optim.minimize(Jcost, x0=field_x0, method=method_gr, jac=Jgrad,\n",
    "                                      options={'gtol': grad_tol, 'disp': True})\n",
    "        \n",
    "        # Store results\n",
    "        field_opt = opt_result['x']\n",
    "        final_fide = opt_result['fun']\n",
    "        \n",
    "        print(final_fide)\n",
    "        fide_attempts[mT, nA] = final_fide\n",
    "\n",
    "# For each value of T, pick the best fidelity out of all attempts\n",
    "for mT in range(len(Tfs)):\n",
    "    fide_opt[mT] = np.amin(fide_attempts[mT, :])"
   ]
  },
  {
   "cell_type": "markdown",
   "metadata": {},
   "source": [
    "## Visualization and Results\n",
    "\n",
    "Plot the optimization results - either the optimal fields or the fidelity vs time."
   ]
  },
  {
   "cell_type": "code",
   "execution_count": 7,
   "metadata": {},
   "outputs": [
    {
     "data": {
      "image/png": "[encoded data removed]",
      "text/plain": [
       "<Figure size 500x300 with 1 Axes>"
      ]
     },
     "metadata": {},
     "output_type": "display_data"
    }
   ],
   "source": [
    "# Plotting parameters\n",
    "colore = ['tab:orange', 'b']\n",
    "lab = [\"zero\", \"random\"]\n",
    "ind = 1\n",
    "\n",
    "# Plot optimal fields for single time evolution\n",
    "if len(Tfs) == 1:\n",
    "    plt.figure(1, figsize=(5, 3))\n",
    "    plt.title(\"nu0 = %.2f, cost0=%.5f, costF=%.2E\" % (nu0, cost_x0, final_fide), size=8)\n",
    "    plt.stairs(field_x0, t/(2*T0), baseline=None, linestyle='--', \n",
    "              linewidth=1.5, color='0.6', label='Initial')\n",
    "    plt.stairs(field_opt, t/(2*T0), baseline=None, linewidth=2, \n",
    "              color=colore[ind], label='Optimized')\n",
    "    plt.ylim([-2, 2])\n",
    "    plt.xlabel(r\"Time $t\\Delta/\\pi$\")\n",
    "    plt.ylabel(r\"Field $\\alpha(t)$\")\n",
    "    plt.legend()\n",
    "    plt.tight_layout()\n",
    "    \n",
    "    # Uncomment to save data and plots\n",
    "    # np.savetxt(\"Data_Plots_QOC/Fig1-A/cost_values_nu0_%d_\"%nu0+guess+\".txt\",[cost_x0,final_fide])\n",
    "    # np.savetxt(\"Data_Plots_QOC/Fig1-A/Time.txt\",t)\n",
    "    # np.savetxt(\"Data_Plots_QOC/Fig1-A/field_ini_nu0_%d_\"%nu0+guess+\".txt\",field_x0)\n",
    "    # np.savetxt(\"Data_Plots_QOC/Fig1-A/field_opt_nu0_%d_\"%nu0+guess+\".txt\",field_opt)\n",
    "    # plt.savefig(\"plots/LZ_fields_nu0%d_alfa0_\"%nu0+lab[ind]+\".svg\",dpi=300,bbox_inches='tight')\n",
    "\n",
    "# Plot fidelity vs evolution time\n",
    "if len(Tfs) > 1:\n",
    "    plt.figure(1, figsize=(5, 3))\n",
    "    plt.semilogy(Tfs, fide_opt, 'o-', label=\"nu0=%.2f\" % nu0)\n",
    "    plt.xlabel(r\"Evolution time $T/T_0$\")\n",
    "    plt.ylabel(r\"Optimized cost $J(\\alpha_{opt})$\")\n",
    "    plt.legend()\n",
    "    plt.tight_layout()\n",
    "    \n",
    "    # Uncomment to save data\n",
    "    # np.savetxt(\"data/LZ_final_cost_nu%.2f_const%d_M%d.txt\"%(nu0,c_const,Nts),fide_opt)\n",
    "    # np.savetxt(\"data/LZ_Tfs.txt\",Tfs)\n",
    "\n",
    "plt.show()"
   ]
  }
 ],
 "metadata": {
  "kernelspec": {
   "display_name": ".quctrl (3.11.8)",
   "language": "python",
   "name": "python3"
  },
  "language_info": {
   "codemirror_mode": {
    "name": "ipython",
    "version": 3
   },
   "file_extension": ".py",
   "mimetype": "text/x-python",
   "name": "python",
   "nbconvert_exporter": "python",
   "pygments_lexer": "ipython3",
   "version": "3.11.8"
  }
 },
 "nbformat": 4,
 "nbformat_minor": 4
}
