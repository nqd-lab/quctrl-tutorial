{
 "cells": [
  {
   "cell_type": "markdown",
   "metadata": {},
   "source": [
    "# Quantum Optimal Control for Spin-J Systems\n",
    "\n",
    "**Author:** pmpoggi @ strath (March 2025)\n",
    "\n",
    "This notebook implements state control for collective spin-J systems, focusing on the preparation of Dicke states through optimal control of two-axis driving fields."
   ]
  },
  {
   "cell_type": "markdown",
   "metadata": {},
   "source": [
    "## Import Required Libraries"
   ]
  },
  {
   "cell_type": "code",
   "execution_count": 2,
   "metadata": {},
   "outputs": [],
   "source": [
    "import numpy as np\n",
    "import matplotlib.pyplot as plt\n",
    "import scipy.linalg as alg2\n",
    "import scipy.optimize as optim\n",
    "\n",
    "# Set matplotlib font size\n",
    "plt.rcParams['font.size'] = 14"
   ]
  },
  {
   "cell_type": "markdown",
   "metadata": {},
   "source": [
    "## Collective Spin System Definitions\n",
    "\n",
    "Define functions for generating Clebsch-Gordon coefficients and collective spin operators."
   ]
  },
  {
   "cell_type": "code",
   "execution_count": 3,
   "metadata": {},
   "outputs": [],
   "source": [
    "def cg(s, j, m):\n",
    "    \"\"\"Clebsch Gordon coefficients, s = +1 or -1\"\"\"\n",
    "    return np.sqrt(j*(j+1) - m*(m+s))\n",
    "\n",
    "def gen_j_mat(n):\n",
    "    \"\"\"Generate collective spin matrices for N particles\"\"\"\n",
    "    J = n/2.\n",
    "    d = int(2*J + 1)\n",
    "    \n",
    "    # Jz operator (diagonal)\n",
    "    Jz_vec = np.arange(J, -(J+1), -1)\n",
    "    Jz = 1j*np.diag(Jz_vec)/(1j)\n",
    "    \n",
    "    # J+ and J- operators\n",
    "    JM_vec = np.zeros(d, dtype=complex)\n",
    "    Jm_vec = np.zeros(d, dtype=complex)\n",
    "    \n",
    "    for i in range(d):\n",
    "        m = -J + i\n",
    "        JM_vec[i] = cg(1, J, m)\n",
    "        Jm_vec[i] = cg(-1, J, m)\n",
    "    \n",
    "    JM = np.diag(JM_vec[0:d-1], 1)  # Upper diagonal\n",
    "    Jm = np.diag(Jm_vec[1:], -1)    # Lower diagonal\n",
    "    \n",
    "    # Jx and Jy operators\n",
    "    Jx = 0.5*(JM + Jm)\n",
    "    Jy = -1j*0.5*(JM - Jm)\n",
    "    \n",
    "    # Identity operator\n",
    "    Id = np.identity(d)\n",
    "    \n",
    "    return [Id, Jx, Jy, Jz]"
   ]
  },
  {
   "cell_type": "markdown",
   "metadata": {},
   "source": [
    "## System Parameters and Setup\n",
    "\n",
    "Define the collective spin system parameters and generate the spin operators."
   ]
  },
  {
   "cell_type": "code",
   "execution_count": 4,
   "metadata": {},
   "outputs": [
    {
     "name": "stdout",
     "output_type": "stream",
     "text": [
      "System: N = 4 particles\n",
      "Total angular momentum: J = 2.0\n",
      "Hilbert space dimension: 5\n",
      "Jz eigenvalues: [ 2.  1.  0. -1. -2.]\n"
     ]
    }
   ],
   "source": [
    "# System parameters\n",
    "N = 4  # number of particles\n",
    "J = N/2  # total angular momentum\n",
    "dim = N + 1  # dimension of Hilbert space\n",
    "\n",
    "# Generate collective spin operators\n",
    "[Id, Jx, Jy, Jz] = gen_j_mat(int(2*J))\n",
    "Ji = [Jx, Jy, Jz]\n",
    "Jz2 = np.dot(Jz, Jz)  # Jz squared\n",
    "Jx2 = np.dot(Jx, Jx)  # Jx squared\n",
    "\n",
    "print(f\"System: N = {N} particles\")\n",
    "print(f\"Total angular momentum: J = {J}\")\n",
    "print(f\"Hilbert space dimension: {dim}\")\n",
    "print(f\"Jz eigenvalues: {np.arange(J, -(J+1), -1)}\")"
   ]
  },
  {
   "cell_type": "markdown",
   "metadata": {},
   "source": [
    "## Optimization and Evolution Parameters\n",
    "\n",
    "Set up the control parameters and define initial and target states."
   ]
  },
  {
   "cell_type": "code",
   "execution_count": 5,
   "metadata": {},
   "outputs": [
    {
     "name": "stdout",
     "output_type": "stream",
     "text": [
      "Initial state: |J, J⟩ = |2.0, 2.0⟩ (all spins up)\n",
      "Target state: |J, J-1⟩ = |2.0, 1.0⟩ (Dicke state with 1 excitation(s))\n",
      "Control fields: Two-axis driving (Jx and Jy)\n",
      "Interaction: Jz² with strength β = 1\n"
     ]
    }
   ],
   "source": [
    "# Control parameters\n",
    "omega = 3  # driving strength\n",
    "beta_max = 1  # interaction strength\n",
    "\n",
    "# Time evolution parameters\n",
    "Tf = 2*np.pi/beta_max  # Total evolution time\n",
    "pasos = np.linspace(0.01, 1.5, 15)  # vector for total evolution times\n",
    "# pasos = [5]  # uncomment for single time evolution\n",
    "Nts = 15  # Number of time steps for the field\n",
    "Num_tries = 1  # Number of optimization attempts\n",
    "\n",
    "# Target and initial states\n",
    "k_exc = 1  # number of excitations in the target state: Dicke (M = J-k)\n",
    "psi_target = np.identity(dim)[k_exc]  # Dicke state |J, J-k⟩\n",
    "targ_lab = f'dicke{k_exc}'\n",
    "psi0 = np.identity(dim)[0]  # SCS (Spin Coherent State) all up |J, J⟩\n",
    "\n",
    "# Optimization parameters\n",
    "metodo = 'L-BFGS-B'  # BFGS or L-BFGS-B\n",
    "grad_tol = 1e-04  # tolerance for gradient\n",
    "\n",
    "print(f\"Initial state: |J, J⟩ = |{J}, {J}⟩ (all spins up)\")\n",
    "print(f\"Target state: |J, J-{k_exc}⟩ = |{J}, {J-k_exc}⟩ (Dicke state with {k_exc} excitation(s))\")\n",
    "print(f\"Control fields: Two-axis driving (Jx and Jy)\")\n",
    "print(f\"Interaction: Jz² with strength β = {beta_max}\")"
   ]
  },
  {
   "cell_type": "markdown",
   "metadata": {},
   "source": [
    "## Hamiltonian Definition\n",
    "\n",
    "Define the time-dependent Hamiltonian with two control fields and quadratic interaction."
   ]
  },
  {
   "cell_type": "code",
   "execution_count": 6,
   "metadata": {},
   "outputs": [],
   "source": [
    "def Hami(x1, x2):\n",
    "    \"\"\"\n",
    "    Time-dependent Hamiltonian:\n",
    "    H = ω[cos(x1)Jx + cos(x2)Jy] + β_max*Jz²\n",
    "    \n",
    "    Parameters:\n",
    "    x1, x2: Control field parameters\n",
    "    \"\"\"\n",
    "    h1 = omega*(np.cos(x1)*Jx + np.cos(x2)*Jy)  # Two-axis driving\n",
    "    h2 = beta_max*Jz2  # Quadratic interaction\n",
    "    return h1 + h2"
   ]
  },
  {
   "cell_type": "markdown",
   "metadata": {},
   "source": [
    "## Optimization Cost Function\n",
    "\n",
    "Define the cost function for state transfer optimization (using numerical gradients)."
   ]
  },
  {
   "cell_type": "code",
   "execution_count": 7,
   "metadata": {},
   "outputs": [],
   "source": [
    "def optim_cost(x):\n",
    "    \"\"\"\n",
    "    Cost function: 1 - |⟨ψ_target|ψ_final⟩|²\n",
    "    \n",
    "    Parameters:\n",
    "    x: Control field array [x1_0, ..., x1_Nts, x2_0, ..., x2_Nts]\n",
    "    \"\"\"\n",
    "    # Split control fields\n",
    "    X1 = x[0:Nts]      # First control field (Jx component)\n",
    "    X2 = x[Nts:2*Nts]  # Second control field (Jy component)\n",
    "    \n",
    "    # Initialize state evolution\n",
    "    psit = np.zeros([Nts+1, dim], dtype=complex)\n",
    "    psit[0] = psi0\n",
    "    \n",
    "    # Time evolution arrays (not used in this cost function but kept for completeness)\n",
    "    Ut = np.zeros([Nts+1, dim, dim], dtype=complex)\n",
    "    Ut[0] = np.identity(dim)\n",
    "    \n",
    "    # Evolve state through time steps\n",
    "    for kt in range(Nts):\n",
    "        h = Hami(X1[kt], X2[kt])\n",
    "        Udt = alg2.expm(-1j*h*dt)  # Time evolution operator\n",
    "        psit[kt+1] = np.dot(Udt, psit[kt])  # Evolve state\n",
    "    \n",
    "    # Calculate fidelity with target state\n",
    "    Jtarget = 1 - abs(np.vdot(psit[-1], psi_target))**2\n",
    "    \n",
    "    return Jtarget"
   ]
  },
  {
   "cell_type": "markdown",
   "metadata": {},
   "source": [
    "## Main Optimization Loop\n",
    "\n",
    "Run the optimization for different evolution times and multiple attempts."
   ]
  },
  {
   "cell_type": "code",
   "execution_count": 8,
   "metadata": {},
   "outputs": [
    {
     "name": "stdout",
     "output_type": "stream",
     "text": [
      "call scipy.optimize.minimize...\n",
      "[Try 1 of 1] Step 15 of 15. Optimized cost: 0.000000000008\n",
      "call scipy.optimize.minimize...\n",
      "[Try 1 of 1] Step 14 of 15. Optimized cost: 0.000000000748\n",
      "call scipy.optimize.minimize...\n",
      "[Try 1 of 1] Step 13 of 15. Optimized cost: 0.000000001914\n",
      "call scipy.optimize.minimize...\n",
      "[Try 1 of 1] Step 12 of 15. Optimized cost: 0.000000022802\n",
      "call scipy.optimize.minimize...\n",
      "[Try 1 of 1] Step 11 of 15. Optimized cost: 0.000000001456\n",
      "call scipy.optimize.minimize...\n",
      "[Try 1 of 1] Step 10 of 15. Optimized cost: 0.000000000151\n",
      "call scipy.optimize.minimize...\n",
      "[Try 1 of 1] Step 9 of 15. Optimized cost: 0.000000000460\n",
      "call scipy.optimize.minimize...\n",
      "[Try 1 of 1] Step 8 of 15. Optimized cost: 0.000000013680\n",
      "call scipy.optimize.minimize...\n",
      "[Try 1 of 1] Step 7 of 15. Optimized cost: 0.000000000513\n",
      "call scipy.optimize.minimize...\n",
      "[Try 1 of 1] Step 6 of 15. Optimized cost: 0.000000010890\n",
      "call scipy.optimize.minimize...\n",
      "[Try 1 of 1] Step 5 of 15. Optimized cost: 0.003614847400\n",
      "call scipy.optimize.minimize...\n",
      "[Try 1 of 1] Step 4 of 15. Optimized cost: 0.012678889586\n",
      "call scipy.optimize.minimize...\n",
      "[Try 1 of 1] Step 3 of 15. Optimized cost: 0.111520006083\n",
      "call scipy.optimize.minimize...\n",
      "[Try 1 of 1] Step 2 of 15. Optimized cost: 0.241995111203\n",
      "call scipy.optimize.minimize...\n",
      "[Try 1 of 1] Step 1 of 15. Optimized cost: 0.933231989723\n",
      "\n",
      "Optimization completed!\n"
     ]
    }
   ],
   "source": [
    "# Initialize storage for results\n",
    "cost_opt = np.zeros([Num_tries, len(pasos)])\n",
    "\n",
    "# Main optimization loop\n",
    "for kt in range(Num_tries):\n",
    "    # Random initial guess for control fields\n",
    "    guess_rand = 2*np.pi*(np.random.rand(2*Nts) - 0.5)\n",
    "    field_opt = 0\n",
    "\n",
    "    # Loop over different evolution times (reverse order for warm starting)\n",
    "    for kp in range(len(pasos))[::-1]:\n",
    "        T = pasos[kp]*Tf  # Current evolution time\n",
    "        t = np.linspace(0, T, Nts+1)\n",
    "        dt = t[1] - t[0]  # Time step\n",
    "        \n",
    "        # Set initial guess (random for first, previous result for others)\n",
    "        if kp == len(pasos)-1:\n",
    "            phi0 = guess_rand\n",
    "        else:\n",
    "            phi0 = field_opt\n",
    "        \n",
    "        print(\"call scipy.optimize.minimize...\")\n",
    "        \n",
    "        # Run optimization\n",
    "        # Option 1: With bounds\n",
    "        # opt_result = optim.minimize(optim_cost, x0=phi0, method=metodo, \n",
    "        #                           bounds=optim.Bounds(-np.pi, np.pi), \n",
    "        #                           options={'gtol': grad_tol, 'disp': True})\n",
    "        \n",
    "        # Option 2: Without bounds (current choice)\n",
    "        opt_result = optim.minimize(optim_cost, x0=phi0, method=metodo, \n",
    "                                  options={'gtol': grad_tol, 'disp': False})\n",
    "        \n",
    "        # Store results\n",
    "        field_opt = opt_result['x']\n",
    "        final_cost = opt_result['fun']\n",
    "        cost_opt[kt, kp] = final_cost\n",
    "        \n",
    "        print(\"[Try %d of %d] Step %d of %d. Optimized cost: %.12f\" % \n",
    "              (kt+1, Num_tries, kp+1, len(pasos), final_cost))\n",
    "\n",
    "print(\"\\nOptimization completed!\")"
   ]
  },
  {
   "cell_type": "markdown",
   "metadata": {},
   "source": [
    "## Results Analysis and Visualization\n",
    "\n",
    "Analyze the optimization results and plot the cost function vs evolution time."
   ]
  },
  {
   "cell_type": "code",
   "execution_count": 9,
   "metadata": {},
   "outputs": [
    {
     "data": {
      "image/png": "[encoded data removed]",
      "text/plain": [
       "<Figure size 800x500 with 1 Axes>"
      ]
     },
     "metadata": {},
     "output_type": "display_data"
    }
   ],
   "source": [
    "# Data saving (commented out - uncomment if needed)\n",
    "# np.savetxt(f\"data_qoc/J{int(J)}_cost_kexc_{k_exc}_Nts{Nts}.txt\", cost_opt)\n",
    "# np.savetxt(f\"data_qoc/J{int(J)}_pasos.txt\", pasos)\n",
    "\n",
    "# Plotting parameters\n",
    "color_k = ['b', 'r', 'g', 'm']\n",
    "\n",
    "# Create figure\n",
    "plt.figure(1, figsize=(8, 5))\n",
    "plt.title(f\"$N={N}$\")\n",
    "\n",
    "# Calculate minimum cost for each evolution time\n",
    "cost_min = np.empty(len(pasos))\n",
    "for kp in range(len(pasos)):\n",
    "    cost_min[kp] = np.amin(cost_opt[:, kp])\n",
    "\n",
    "# Plot minimum cost (main result)\n",
    "plt.semilogy(pasos, cost_min, 'o-', color=color_k[k_exc-1], \n",
    "            label=f\"$k={k_exc}$\", linewidth=2, markersize=6)\n",
    "\n",
    "# Plot individual attempts (with transparency)\n",
    "for kt in range(Num_tries):\n",
    "    plt.semilogy(pasos, cost_opt[kt, :], '-', color=color_k[k_exc-1], \n",
    "                alpha=0.2, linewidth=1)\n",
    "\n",
    "plt.xlabel(r\"Evolution time $\\times 2\\pi/\\beta$\", size=16)\n",
    "plt.ylabel(r\"Optimized cost $\\mathcal{J}_{target}$\", size=16)\n",
    "plt.legend(loc='lower left')\n",
    "plt.grid(True, alpha=0.3)\n",
    "plt.tight_layout()\n",
    "\n",
    "plt.show()"
   ]
  },
  {
   "cell_type": "markdown",
   "metadata": {},
   "source": [
    "## Final State Analysis\n",
    "\n",
    "Analyze the final optimized control fields and the achieved state transfer."
   ]
  },
  {
   "cell_type": "code",
   "execution_count": 10,
   "metadata": {},
   "outputs": [
    {
     "name": "stdout",
     "output_type": "stream",
     "text": [
      "=== OPTIMIZATION RESULTS ===\n",
      "System: N = 4 particles, J = 2.0\n",
      "Target: |J, J-1⟩ = |2.0, 1.0⟩ (Dicke state)\n",
      "Initial: |J, J⟩ = |2.0, 2.0⟩ (all spins up)\n",
      "\n",
      "Best result:\n",
      "Evolution time: 1.500 × 2π/β = 9.425\n",
      "Final cost: 8.18e-12\n",
      "State transfer fidelity: 1.000000\n",
      "Number of time steps: 15\n",
      "Number of optimization attempts: 1\n",
      "\n",
      "Evolution time range: [0.010, 1.500] × 2π/β\n",
      "Total optimization points: 15\n"
     ]
    }
   ],
   "source": [
    "# Analyze the best result (shortest evolution time with good fidelity)\n",
    "best_idx = np.argmin(cost_min)\n",
    "best_cost = cost_min[best_idx]\n",
    "best_time = pasos[best_idx]\n",
    "best_fidelity = 1 - best_cost\n",
    "\n",
    "print(\"=== OPTIMIZATION RESULTS ===\")\n",
    "print(f\"System: N = {N} particles, J = {J}\")\n",
    "print(f\"Target: |J, J-{k_exc}⟩ = |{J}, {J-k_exc}⟩ (Dicke state)\")\n",
    "print(f\"Initial: |J, J⟩ = |{J}, {J}⟩ (all spins up)\")\n",
    "print(f\"\\nBest result:\")\n",
    "print(f\"Evolution time: {best_time:.3f} × 2π/β = {best_time*Tf:.3f}\")\n",
    "print(f\"Final cost: {best_cost:.2e}\")\n",
    "print(f\"State transfer fidelity: {best_fidelity:.6f}\")\n",
    "print(f\"Number of time steps: {Nts}\")\n",
    "print(f\"Number of optimization attempts: {Num_tries}\")\n",
    "\n",
    "# Show the range of evolution times explored\n",
    "print(f\"\\nEvolution time range: [{pasos[0]:.3f}, {pasos[-1]:.3f}] × 2π/β\")\n",
    "print(f\"Total optimization points: {len(pasos)}\")"
   ]
  }
 ],
 "metadata": {
  "kernelspec": {
   "display_name": ".quctrl (3.11.8)",
   "language": "python",
   "name": "python3"
  },
  "language_info": {
   "codemirror_mode": {
    "name": "ipython",
    "version": 3
   },
   "file_extension": ".py",
   "mimetype": "text/x-python",
   "name": "python",
   "nbconvert_exporter": "python",
   "pygments_lexer": "ipython3",
   "version": "3.11.8"
  }
 },
 "nbformat": 4,
 "nbformat_minor": 4
}
